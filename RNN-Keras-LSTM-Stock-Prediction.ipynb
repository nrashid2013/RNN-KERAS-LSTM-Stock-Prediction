{
 "cells": [
  {
   "cell_type": "markdown",
   "metadata": {},
   "source": [
    "# Recurrent Neural Network\n",
    "\n",
    "# Part 1 - Data Preprocessing"
   ]
  },
  {
   "cell_type": "code",
   "execution_count": 1,
   "metadata": {},
   "outputs": [],
   "source": [
    "#importing the libraries \n",
    "import numpy as np\n",
    "import matplotlib.pyplot as plt\n",
    "import pandas as pd"
   ]
  },
  {
   "cell_type": "code",
   "execution_count": 2,
   "metadata": {},
   "outputs": [
    {
     "name": "stdout",
     "output_type": "stream",
     "text": [
      "       Date    Open    High     Low   Close      Volume\n",
      "0  1/3/2012  325.25  332.83  324.97  663.59   7,380,500\n",
      "1  1/4/2012  331.27  333.87  329.08  666.45   5,749,400\n",
      "2  1/5/2012  329.83  330.75  326.89  657.21   6,590,300\n",
      "3  1/6/2012  328.34  328.77  323.68  648.24   5,405,900\n",
      "4  1/9/2012  322.04  322.29  309.46  620.76  11,688,800\n"
     ]
    }
   ],
   "source": [
    "#importing the training set\n",
    "dataset_train = pd.read_csv('Google_Stock_Price_Train.csv')\n",
    "training_set = dataset_train.iloc[:, 1:2].values\n",
    "print(dataset_train.head())"
   ]
  },
  {
   "cell_type": "code",
   "execution_count": 3,
   "metadata": {},
   "outputs": [
    {
     "name": "stdout",
     "output_type": "stream",
     "text": [
      "(1258, 6)\n",
      "(1258, 1)\n"
     ]
    }
   ],
   "source": [
    "print(dataset_train.shape)\n",
    "print(training_set.shape)"
   ]
  },
  {
   "cell_type": "code",
   "execution_count": 4,
   "metadata": {
    "scrolled": true
   },
   "outputs": [
    {
     "name": "stdout",
     "output_type": "stream",
     "text": [
      "[[325.25]\n",
      " [331.27]\n",
      " [329.83]\n",
      " [328.34]\n",
      " [322.04]]\n"
     ]
    }
   ],
   "source": [
    "print(training_set[:5])"
   ]
  },
  {
   "cell_type": "code",
   "execution_count": 5,
   "metadata": {},
   "outputs": [
    {
     "name": "stdout",
     "output_type": "stream",
     "text": [
      "[[0.08581368]\n",
      " [0.09701243]\n",
      " [0.09433366]\n",
      " ...\n",
      " [0.95725128]\n",
      " [0.93796041]\n",
      " [0.93688146]]\n"
     ]
    }
   ],
   "source": [
    "#feature Scaling \n",
    "from sklearn.preprocessing import MinMaxScaler\n",
    "sc = MinMaxScaler(feature_range = (0,1))\n",
    "training_set_scaled = sc.fit_transform(training_set)\n",
    "print(training_set_scaled)"
   ]
  },
  {
   "cell_type": "code",
   "execution_count": 6,
   "metadata": {},
   "outputs": [],
   "source": [
    "#creating a data structure with 60 timesteps and 1 output\n",
    "X_train = []\n",
    "y_train = []\n",
    "\n",
    "for i in range(60, 1258):\n",
    "    X_train.append(training_set_scaled[i-60:i,0])\n",
    "    y_train.append(training_set_scaled[i,0])\n",
    "    \n",
    "X_train, y_train, = np.array(X_train), np.array(y_train)\n"
   ]
  },
  {
   "cell_type": "code",
   "execution_count": 7,
   "metadata": {},
   "outputs": [
    {
     "name": "stdout",
     "output_type": "stream",
     "text": [
      "(1198, 60)\n",
      "(1198,)\n"
     ]
    }
   ],
   "source": [
    "print(X_train.shape)\n",
    "print(y_train.shape)"
   ]
  },
  {
   "cell_type": "code",
   "execution_count": 8,
   "metadata": {},
   "outputs": [
    {
     "name": "stdout",
     "output_type": "stream",
     "text": [
      "[[0.08581368 0.09701243 0.09433366 0.09156187 0.07984225 0.0643277\n",
      "  0.0585423  0.06568569 0.06109085 0.06639259 0.0614257  0.07474514\n",
      "  0.02797827 0.02379269 0.02409033 0.0159238  0.01078949 0.00967334\n",
      "  0.01642607 0.02100231 0.02280676 0.02273235 0.02810849 0.03212665\n",
      "  0.0433812  0.04475779 0.04790163 0.0440695  0.04648783 0.04745517\n",
      "  0.04873875 0.03936305 0.04137213 0.04034898 0.04784582 0.04325099\n",
      "  0.04356723 0.04286033 0.04602277 0.05398467 0.05738894 0.05714711\n",
      "  0.05569611 0.04421832 0.04514845 0.04605997 0.04412531 0.03675869\n",
      "  0.04486941 0.05065481 0.05214302 0.05612397 0.05818885 0.06540665\n",
      "  0.06882953 0.07243843 0.07993526 0.07846566 0.08034452 0.08497656]]\n"
     ]
    }
   ],
   "source": [
    "print(X_train[0:1])"
   ]
  },
  {
   "cell_type": "code",
   "execution_count": 9,
   "metadata": {},
   "outputs": [
    {
     "name": "stdout",
     "output_type": "stream",
     "text": [
      "0.08627874097775134\n"
     ]
    }
   ],
   "source": [
    "print(y_train[0])"
   ]
  },
  {
   "cell_type": "code",
   "execution_count": 10,
   "metadata": {},
   "outputs": [
    {
     "name": "stdout",
     "output_type": "stream",
     "text": [
      "[[[0.08581368]\n",
      "  [0.09701243]\n",
      "  [0.09433366]\n",
      "  [0.09156187]\n",
      "  [0.07984225]\n",
      "  [0.0643277 ]\n",
      "  [0.0585423 ]\n",
      "  [0.06568569]\n",
      "  [0.06109085]\n",
      "  [0.06639259]\n",
      "  [0.0614257 ]\n",
      "  [0.07474514]\n",
      "  [0.02797827]\n",
      "  [0.02379269]\n",
      "  [0.02409033]\n",
      "  [0.0159238 ]\n",
      "  [0.01078949]\n",
      "  [0.00967334]\n",
      "  [0.01642607]\n",
      "  [0.02100231]\n",
      "  [0.02280676]\n",
      "  [0.02273235]\n",
      "  [0.02810849]\n",
      "  [0.03212665]\n",
      "  [0.0433812 ]\n",
      "  [0.04475779]\n",
      "  [0.04790163]\n",
      "  [0.0440695 ]\n",
      "  [0.04648783]\n",
      "  [0.04745517]\n",
      "  [0.04873875]\n",
      "  [0.03936305]\n",
      "  [0.04137213]\n",
      "  [0.04034898]\n",
      "  [0.04784582]\n",
      "  [0.04325099]\n",
      "  [0.04356723]\n",
      "  [0.04286033]\n",
      "  [0.04602277]\n",
      "  [0.05398467]\n",
      "  [0.05738894]\n",
      "  [0.05714711]\n",
      "  [0.05569611]\n",
      "  [0.04421832]\n",
      "  [0.04514845]\n",
      "  [0.04605997]\n",
      "  [0.04412531]\n",
      "  [0.03675869]\n",
      "  [0.04486941]\n",
      "  [0.05065481]\n",
      "  [0.05214302]\n",
      "  [0.05612397]\n",
      "  [0.05818885]\n",
      "  [0.06540665]\n",
      "  [0.06882953]\n",
      "  [0.07243843]\n",
      "  [0.07993526]\n",
      "  [0.07846566]\n",
      "  [0.08034452]\n",
      "  [0.08497656]]]\n"
     ]
    }
   ],
   "source": [
    "#Reshaping\n",
    "X_train = np.reshape(X_train, (X_train.shape[0], X_train.shape[1], 1))\n",
    "print(X_train[0:1])"
   ]
  },
  {
   "cell_type": "markdown",
   "metadata": {},
   "source": [
    "# Part 2 Building the RNN"
   ]
  },
  {
   "cell_type": "code",
   "execution_count": 11,
   "metadata": {},
   "outputs": [
    {
     "name": "stderr",
     "output_type": "stream",
     "text": [
      "Using TensorFlow backend.\n"
     ]
    }
   ],
   "source": [
    "#importing the Keras Libraries and package\n",
    "from keras.models import Sequential\n",
    "from keras.layers import Dense\n",
    "from keras.layers import LSTM\n",
    "from keras.layers import Dropout"
   ]
  },
  {
   "cell_type": "code",
   "execution_count": 12,
   "metadata": {},
   "outputs": [],
   "source": [
    "#Initialising the RNN\n",
    "regressor = Sequential()"
   ]
  },
  {
   "cell_type": "code",
   "execution_count": 17,
   "metadata": {},
   "outputs": [
    {
     "name": "stdout",
     "output_type": "stream",
     "text": [
      "WARNING:tensorflow:From C:\\software\\anaconda\\lib\\site-packages\\tensorflow\\python\\ops\\math_ops.py:3066: to_int32 (from tensorflow.python.ops.math_ops) is deprecated and will be removed in a future version.\n",
      "Instructions for updating:\n",
      "Use tf.cast instead.\n",
      "Epoch 1/100\n",
      "1198/1198 [==============================] - 21s 18ms/step - loss: 0.1104\n",
      "Epoch 2/100\n",
      "1198/1198 [==============================] - 12s 10ms/step - loss: 0.0200\n",
      "Epoch 3/100\n",
      "1198/1198 [==============================] - 12s 10ms/step - loss: 0.0189\n",
      "Epoch 4/100\n",
      "1198/1198 [==============================] - 12s 10ms/step - loss: 0.0130\n",
      "Epoch 5/100\n",
      "1198/1198 [==============================] - 12s 10ms/step - loss: 0.0101\n",
      "Epoch 6/100\n",
      "1198/1198 [==============================] - 12s 10ms/step - loss: 0.0112\n",
      "Epoch 7/100\n",
      "1198/1198 [==============================] - 12s 10ms/step - loss: 0.0092\n",
      "Epoch 8/100\n",
      "1198/1198 [==============================] - 12s 10ms/step - loss: 0.0093\n",
      "Epoch 9/100\n",
      "1198/1198 [==============================] - 12s 10ms/step - loss: 0.0087\n",
      "Epoch 10/100\n",
      "1198/1198 [==============================] - 12s 10ms/step - loss: 0.0102\n",
      "Epoch 11/100\n",
      "1198/1198 [==============================] - 12s 10ms/step - loss: 0.0083\n",
      "Epoch 12/100\n",
      "1198/1198 [==============================] - 12s 10ms/step - loss: 0.0084\n",
      "Epoch 13/100\n",
      "1198/1198 [==============================] - 12s 10ms/step - loss: 0.0077\n",
      "Epoch 14/100\n",
      "1198/1198 [==============================] - 12s 10ms/step - loss: 0.0076\n",
      "Epoch 15/100\n",
      "1198/1198 [==============================] - 12s 10ms/step - loss: 0.0070\n",
      "Epoch 16/100\n",
      "1198/1198 [==============================] - 12s 10ms/step - loss: 0.0082\n",
      "Epoch 17/100\n",
      "1198/1198 [==============================] - 12s 10ms/step - loss: 0.0073\n",
      "Epoch 18/100\n",
      "1198/1198 [==============================] - 12s 10ms/step - loss: 0.0078\n",
      "Epoch 19/100\n",
      "1198/1198 [==============================] - 12s 10ms/step - loss: 0.0068\n",
      "Epoch 20/100\n",
      "1198/1198 [==============================] - 12s 10ms/step - loss: 0.0073\n",
      "Epoch 21/100\n",
      "1198/1198 [==============================] - 12s 10ms/step - loss: 0.0069\n",
      "Epoch 22/100\n",
      "1198/1198 [==============================] - 12s 10ms/step - loss: 0.0065\n",
      "Epoch 23/100\n",
      "1198/1198 [==============================] - 12s 10ms/step - loss: 0.0074\n",
      "Epoch 24/100\n",
      "1198/1198 [==============================] - 12s 10ms/step - loss: 0.0068\n",
      "Epoch 25/100\n",
      "1198/1198 [==============================] - 12s 10ms/step - loss: 0.0063\n",
      "Epoch 26/100\n",
      "1198/1198 [==============================] - 12s 10ms/step - loss: 0.0060\n",
      "Epoch 27/100\n",
      "1198/1198 [==============================] - 13s 11ms/step - loss: 0.0064\n",
      "Epoch 28/100\n",
      "1198/1198 [==============================] - 12s 10ms/step - loss: 0.0060\n",
      "Epoch 29/100\n",
      "1198/1198 [==============================] - 12s 10ms/step - loss: 0.0048\n",
      "Epoch 30/100\n",
      "1198/1198 [==============================] - 12s 10ms/step - loss: 0.0053\n",
      "Epoch 31/100\n",
      "1198/1198 [==============================] - 12s 10ms/step - loss: 0.0046\n",
      "Epoch 32/100\n",
      "1198/1198 [==============================] - 12s 10ms/step - loss: 0.0052\n",
      "Epoch 33/100\n",
      "1198/1198 [==============================] - 12s 10ms/step - loss: 0.0049\n",
      "Epoch 34/100\n",
      "1198/1198 [==============================] - 13s 10ms/step - loss: 0.0057\n",
      "Epoch 35/100\n",
      "1198/1198 [==============================] - 13s 11ms/step - loss: 0.0053\n",
      "Epoch 36/100\n",
      "1198/1198 [==============================] - 12s 10ms/step - loss: 0.0044\n",
      "Epoch 37/100\n",
      "1198/1198 [==============================] - 12s 10ms/step - loss: 0.0045\n",
      "Epoch 38/100\n",
      "1198/1198 [==============================] - 12s 10ms/step - loss: 0.0042\n",
      "Epoch 39/100\n",
      "1198/1198 [==============================] - 12s 10ms/step - loss: 0.0046\n",
      "Epoch 40/100\n",
      "1198/1198 [==============================] - 12s 10ms/step - loss: 0.0047\n",
      "Epoch 41/100\n",
      "1198/1198 [==============================] - 12s 10ms/step - loss: 0.0045\n",
      "Epoch 42/100\n",
      "1198/1198 [==============================] - 12s 10ms/step - loss: 0.0044\n",
      "Epoch 43/100\n",
      "1198/1198 [==============================] - 12s 10ms/step - loss: 0.0038\n",
      "Epoch 44/100\n",
      "1198/1198 [==============================] - 12s 10ms/step - loss: 0.0038\n",
      "Epoch 45/100\n",
      "1198/1198 [==============================] - 12s 10ms/step - loss: 0.0045\n",
      "Epoch 46/100\n",
      "1198/1198 [==============================] - 12s 10ms/step - loss: 0.0040\n",
      "Epoch 47/100\n",
      "1198/1198 [==============================] - 13s 10ms/step - loss: 0.0035\n",
      "Epoch 48/100\n",
      "1198/1198 [==============================] - 12s 10ms/step - loss: 0.0038\n",
      "Epoch 49/100\n",
      "1198/1198 [==============================] - 12s 10ms/step - loss: 0.0036\n",
      "Epoch 50/100\n",
      "1198/1198 [==============================] - 12s 10ms/step - loss: 0.0039\n",
      "Epoch 51/100\n",
      "1198/1198 [==============================] - 12s 10ms/step - loss: 0.0035\n",
      "Epoch 52/100\n",
      "1198/1198 [==============================] - 12s 10ms/step - loss: 0.0036\n",
      "Epoch 53/100\n",
      "1198/1198 [==============================] - 12s 10ms/step - loss: 0.0035\n",
      "Epoch 54/100\n",
      "1198/1198 [==============================] - 12s 10ms/step - loss: 0.0039\n",
      "Epoch 55/100\n",
      "1198/1198 [==============================] - 12s 10ms/step - loss: 0.0034\n",
      "Epoch 56/100\n",
      "1198/1198 [==============================] - 12s 10ms/step - loss: 0.0035\n",
      "Epoch 57/100\n",
      "1198/1198 [==============================] - 12s 10ms/step - loss: 0.0040\n",
      "Epoch 58/100\n",
      "1198/1198 [==============================] - 12s 10ms/step - loss: 0.0038\n",
      "Epoch 59/100\n",
      "1198/1198 [==============================] - 12s 10ms/step - loss: 0.0034\n",
      "Epoch 60/100\n",
      "1198/1198 [==============================] - 12s 10ms/step - loss: 0.0035\n",
      "Epoch 61/100\n",
      "1198/1198 [==============================] - 12s 10ms/step - loss: 0.0041\n",
      "Epoch 62/100\n",
      "1198/1198 [==============================] - 12s 10ms/step - loss: 0.0032\n",
      "Epoch 63/100\n",
      "1198/1198 [==============================] - 12s 10ms/step - loss: 0.0034\n",
      "Epoch 64/100\n",
      "1198/1198 [==============================] - 12s 10ms/step - loss: 0.0034\n",
      "Epoch 65/100\n",
      "1198/1198 [==============================] - 13s 11ms/step - loss: 0.0034\n",
      "Epoch 66/100\n",
      "1198/1198 [==============================] - 12s 10ms/step - loss: 0.0030\n",
      "Epoch 67/100\n",
      "1198/1198 [==============================] - 13s 10ms/step - loss: 0.0035\n",
      "Epoch 68/100\n",
      "1198/1198 [==============================] - 12s 10ms/step - loss: 0.0032\n",
      "Epoch 69/100\n",
      "1198/1198 [==============================] - 12s 10ms/step - loss: 0.0031\n",
      "Epoch 70/100\n",
      "1198/1198 [==============================] - 13s 10ms/step - loss: 0.0035\n",
      "Epoch 71/100\n",
      "1198/1198 [==============================] - 13s 11ms/step - loss: 0.0036\n",
      "Epoch 72/100\n",
      "1198/1198 [==============================] - 13s 10ms/step - loss: 0.0035\n",
      "Epoch 73/100\n",
      "1198/1198 [==============================] - 13s 11ms/step - loss: 0.0035\n",
      "Epoch 74/100\n",
      "1198/1198 [==============================] - 13s 10ms/step - loss: 0.0033\n",
      "Epoch 75/100\n",
      "1198/1198 [==============================] - 12s 10ms/step - loss: 0.0028\n",
      "Epoch 76/100\n",
      "1198/1198 [==============================] - 12s 10ms/step - loss: 0.0028\n",
      "Epoch 77/100\n",
      "1198/1198 [==============================] - 12s 10ms/step - loss: 0.0029\n",
      "Epoch 78/100\n",
      "1198/1198 [==============================] - 12s 10ms/step - loss: 0.0030\n",
      "Epoch 79/100\n",
      "1198/1198 [==============================] - 12s 10ms/step - loss: 0.0030\n",
      "Epoch 80/100\n",
      "1198/1198 [==============================] - 12s 10ms/step - loss: 0.0024\n",
      "Epoch 81/100\n",
      "1198/1198 [==============================] - 12s 10ms/step - loss: 0.0024\n",
      "Epoch 82/100\n",
      "1198/1198 [==============================] - 12s 10ms/step - loss: 0.0024\n",
      "Epoch 83/100\n",
      "1198/1198 [==============================] - 12s 10ms/step - loss: 0.0025\n",
      "Epoch 84/100\n",
      "1198/1198 [==============================] - 13s 11ms/step - loss: 0.0027\n",
      "Epoch 85/100\n",
      "1198/1198 [==============================] - 13s 11ms/step - loss: 0.0027\n",
      "Epoch 86/100\n",
      "1198/1198 [==============================] - 13s 11ms/step - loss: 0.0024\n",
      "Epoch 87/100\n",
      "1198/1198 [==============================] - 13s 11ms/step - loss: 0.0024\n",
      "Epoch 88/100\n",
      "1198/1198 [==============================] - 13s 11ms/step - loss: 0.0025\n",
      "Epoch 89/100\n",
      "1198/1198 [==============================] - 13s 11ms/step - loss: 0.0025\n",
      "Epoch 90/100\n",
      "1198/1198 [==============================] - 13s 11ms/step - loss: 0.0021\n",
      "Epoch 91/100\n",
      "1198/1198 [==============================] - 12s 10ms/step - loss: 0.0022\n",
      "Epoch 92/100\n"
     ]
    },
    {
     "name": "stdout",
     "output_type": "stream",
     "text": [
      "1198/1198 [==============================] - 12s 10ms/step - loss: 0.0026\n",
      "Epoch 93/100\n",
      "1198/1198 [==============================] - 12s 10ms/step - loss: 0.0021\n",
      "Epoch 94/100\n",
      "1198/1198 [==============================] - 12s 10ms/step - loss: 0.0024\n",
      "Epoch 95/100\n",
      "1198/1198 [==============================] - 12s 10ms/step - loss: 0.0022\n",
      "Epoch 96/100\n",
      "1198/1198 [==============================] - 12s 10ms/step - loss: 0.0022\n",
      "Epoch 97/100\n",
      "1198/1198 [==============================] - 12s 10ms/step - loss: 0.0020\n",
      "Epoch 98/100\n",
      "1198/1198 [==============================] - 12s 10ms/step - loss: 0.0021\n",
      "Epoch 99/100\n",
      "1198/1198 [==============================] - 12s 10ms/step - loss: 0.0023\n",
      "Epoch 100/100\n",
      "1198/1198 [==============================] - 12s 10ms/step - loss: 0.0021\n"
     ]
    },
    {
     "data": {
      "text/plain": [
       "<keras.callbacks.History at 0x24ec95f70f0>"
      ]
     },
     "execution_count": 17,
     "metadata": {},
     "output_type": "execute_result"
    }
   ],
   "source": [
    "#Adding the first LSTM layer and some Dropout regularisation \n",
    "regressor.add(LSTM(units =50, return_sequences = True, input_shape=(X_train.shape[1], 1)))\n",
    "regressor.add(Dropout(0.2))\n",
    "\n",
    "#Adding the first LSTM layer and some Dropout regularisation \n",
    "regressor.add(LSTM(units =50, return_sequences = True))\n",
    "regressor.add(Dropout(0.2))\n",
    "\n",
    "#Adding the first LSTM layer and some Dropout regularisation \n",
    "regressor.add(LSTM(units =50, return_sequences = True))\n",
    "regressor.add(Dropout(0.2))\n",
    "\n",
    "#Adding the first LSTM layer and some Dropout regularisation \n",
    "regressor.add(LSTM(units =50))\n",
    "regressor.add(Dropout(0.2))\n",
    "\n",
    "#Adding the output layer\n",
    "regressor.add(Dense(units=1))\n",
    "\n",
    "#Compiling the RNN\n",
    "regressor.compile(optimizer='adam', loss='mean_squared_error')\n",
    "\n",
    "#Fitting the RNN to the Training set\n",
    "regressor.fit(X_train, y_train, epochs=100, batch_size=32)\n"
   ]
  },
  {
   "cell_type": "markdown",
   "metadata": {},
   "source": [
    "# Part 3 - Making the predictions and visualising the results "
   ]
  },
  {
   "cell_type": "code",
   "execution_count": 18,
   "metadata": {},
   "outputs": [],
   "source": [
    "dataset_test = pd.read_csv('Google_Stock_Price_Test.csv')\n",
    "real_stock_price = dataset_test.iloc[:, 1:2].values"
   ]
  },
  {
   "cell_type": "code",
   "execution_count": 20,
   "metadata": {},
   "outputs": [],
   "source": [
    "#Getting the real stock price of 2017\n",
    "dataset_total = pd.concat((dataset_train['Open'], dataset_test['Open']), axis=0)\n",
    "inputs = dataset_total[len(dataset_total) - len(dataset_test) - 60:].values\n",
    "inputs = inputs.reshape(-1,1)\n",
    "inputs = sc.transform(inputs)"
   ]
  },
  {
   "cell_type": "code",
   "execution_count": 21,
   "metadata": {},
   "outputs": [],
   "source": [
    "X_test = []\n",
    "for i in range(60,80):\n",
    "    X_test.append(inputs[i-60:i-0])\n",
    "X_test = np.array(X_test)\n",
    "X_test = np.reshape(X_test, (X_test.shape[0], X_test.shape[1], 1))\n",
    "predict_stock_price = regressor.predict(X_test)\n",
    "predict_stock_price = sc.inverse_transform(predict_stock_price)"
   ]
  },
  {
   "cell_type": "code",
   "execution_count": 22,
   "metadata": {},
   "outputs": [
    {
     "data": {
      "image/png": "[encoded data removed]",
      "text/plain": [
       "<Figure size 432x288 with 1 Axes>"
      ]
     },
     "metadata": {
      "needs_background": "light"
     },
     "output_type": "display_data"
    }
   ],
   "source": [
    "#Visualising the result\n",
    "plt.plot(real_stock_price, color='red', label='Real Google Stock Price')\n",
    "plt.plot(real_stock_price, color='blue', label='Predicted Google Stock Price')\n",
    "plt.title('Google Stock Price Prediction')\n",
    "plt.xlabel('Time')\n",
    "plt.ylabel('Google Stock Price')\n",
    "plt.legend()\n",
    "plt.show()"
   ]
  },
  {
   "cell_type": "code",
   "execution_count": null,
   "metadata": {},
   "outputs": [],
   "source": []
  }
 ],
 "metadata": {
  "kernelspec": {
   "display_name": "gputest",
   "language": "python",
   "name": "gputest"
  },
  "language_info": {
   "codemirror_mode": {
    "name": "ipython",
    "version": 3
   },
   "file_extension": ".py",
   "mimetype": "text/x-python",
   "name": "python",
   "nbconvert_exporter": "python",
   "pygments_lexer": "ipython3",
   "version": "3.7.3"
  }
 },
 "nbformat": 4,
 "nbformat_minor": 2
}
